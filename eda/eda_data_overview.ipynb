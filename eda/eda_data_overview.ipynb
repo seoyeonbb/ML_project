{
 "cells": [
  {
   "cell_type": "markdown",
   "id": "c53cbc2e",
   "metadata": {},
   "source": [
    "# import"
   ]
  },
  {
   "cell_type": "code",
   "execution_count": null,
   "id": "089faf8b",
   "metadata": {},
   "outputs": [],
   "source": [
    "# pip install openpyxl"
   ]
  },
  {
   "cell_type": "code",
   "execution_count": null,
   "id": "7aa45004",
   "metadata": {},
   "outputs": [],
   "source": [
    "# 데이터 처리\n",
    "import pandas as pd\n",
    "import numpy as np\n",
    "\n",
    "# 시각화\n",
    "import matplotlib.pyplot as plt\n",
    "import matplotlib\n",
    "import seaborn as sns\n",
    "\n",
    "# 시각화 스타일 설정\n",
    "sns.set_context('notebook')  # 노트북에 최적화된 크기와 폰트\n",
    "\n",
    "# 한글 깨짐 방지 (윈도우)\n",
    "import platform\n",
    "if platform.system() == 'Windows':\n",
    "    matplotlib.rc('font', family='Malgun Gothic')\n",
    "\n",
    "# 그래프에서 마이너스 기호 깨짐 방지\n",
    "matplotlib.rcParams['axes.unicode_minus'] = False\n",
    "\n",
    "# 경고 메시지 숨기기 (필요시)\n",
    "import warnings\n",
    "warnings.filterwarnings('ignore')"
   ]
  },
  {
   "cell_type": "markdown",
   "id": "13d46675",
   "metadata": {},
   "source": [
    "# file"
   ]
  },
  {
   "cell_type": "code",
   "execution_count": null,
   "id": "77af103b",
   "metadata": {},
   "outputs": [],
   "source": [
    "import pandas as pd\n",
    "\n",
    "# 엑셀 파일 경로\n",
    "file_path = './data/knhanes.xlsx'\n",
    "\n",
    "# 엑셀 파일 읽기\n",
    "df = pd.read_excel(file_path)\n",
    "\n",
    "# CSV로 저장\n",
    "csv_path = './data/knhanes.csv'\n",
    "df.to_csv(csv_path, index=False, encoding='utf-8-sig')  # 한글 깨짐 방지\n",
    "\n",
    "print(df.head())"
   ]
  },
  {
   "cell_type": "markdown",
   "id": "e93c62d1",
   "metadata": {},
   "source": [
    "# data"
   ]
  },
  {
   "cell_type": "markdown",
   "id": "3fdf0248",
   "metadata": {},
   "source": [
    "### DE1_dg : 의사 진단 당뇨 유무 (0=없음·1=있음)"
   ]
  },
  {
   "cell_type": "code",
   "execution_count": null,
   "id": "100674c9",
   "metadata": {},
   "outputs": [],
   "source": [
    "# DE1_dg 자료형과 고유값, 개수 확인\n",
    "print(df['DE1_dg'].dtype)\n",
    "print(df['DE1_dg'].value_counts(dropna=False))\n",
    "\n",
    "# 데이터프레임 행 개수 확인\n",
    "print(\"데이터 행 수:\", len(df))\n",
    "\n",
    "# 중복 행 개수 확인\n",
    "print(\"중복 행 개수:\", df.duplicated().sum())"
   ]
  },
  {
   "cell_type": "code",
   "execution_count": null,
   "id": "94ea0c15",
   "metadata": {},
   "outputs": [],
   "source": [
    "df_de1 = df[df['DE1_dg'].isin([1])]\n",
    "diagnosed_count = df_de1['DE1_dg'].sum()\n",
    "print(f\"의사 진단 당뇨병 환자 수 (0,1 필터링): {diagnosed_count}\")"
   ]
  },
  {
   "cell_type": "markdown",
   "id": "b54bc5c9",
   "metadata": {},
   "source": [
    "### HE_DM_HbA1c : HbA1c·공복혈당·진단 정보로 산출된 3단계 당뇨 상태 (1=정상‧2=전단계‧3=당뇨)"
   ]
  },
  {
   "cell_type": "code",
   "execution_count": null,
   "id": "3bb8f751",
   "metadata": {},
   "outputs": [],
   "source": [
    "status_map = {1: '정상', 2: '당뇨병 전단계', 3: '당뇨병'}\n",
    "\n",
    "# 결측치 아닌 데이터 개수 (상태별)\n",
    "counts = df['HE_DM_HbA1c'].dropna().map(status_map).value_counts()\n",
    "\n",
    "# 결측치 개수\n",
    "missing_count = df['HE_DM_HbA1c'].isnull().sum()\n",
    "\n",
    "print(\"HE_DM_HbA1c 상태별 개수:\")\n",
    "print(counts)\n",
    "print(f\"\\nHE_DM_HbA1c 결측치 개수: {missing_count}\")"
   ]
  },
  {
   "cell_type": "markdown",
   "id": "67337126",
   "metadata": {},
   "source": [
    "### HE_glu : 공복혈당"
   ]
  },
  {
   "cell_type": "code",
   "execution_count": null,
   "id": "268f9d48",
   "metadata": {},
   "outputs": [],
   "source": [
    "def glu_status(glu):\n",
    "    if pd.isna(glu):\n",
    "        return None\n",
    "    elif glu < 100:\n",
    "        return '정상'\n",
    "    elif 100 <= glu <= 125:\n",
    "        return '당뇨병 전단계'\n",
    "    else:\n",
    "        return '당뇨병'\n",
    "\n",
    "df['glu_status'] = df['HE_glu'].apply(glu_status)\n",
    "\n",
    "# 상태별 개수 (결측 제외)\n",
    "counts = df['glu_status'].value_counts(dropna=True)\n",
    "\n",
    "# 결측치 개수\n",
    "missing_count = df['HE_glu'].isnull().sum()\n",
    "\n",
    "print(\"공복혈당 기준 당뇨 상태별 개수:\")\n",
    "print(counts)\n",
    "print(f\"\\n공복혈당 결측치 개수: {missing_count}\")"
   ]
  },
  {
   "cell_type": "markdown",
   "id": "d1850143",
   "metadata": {},
   "source": [
    "### HE_HbA1c : 당화혈색소"
   ]
  },
  {
   "cell_type": "code",
   "execution_count": null,
   "id": "b2409b72",
   "metadata": {},
   "outputs": [],
   "source": [
    "import pandas as pd\n",
    "\n",
    "def hba1c_status(hba1c):\n",
    "    if pd.isna(hba1c):\n",
    "        return None\n",
    "    elif hba1c < 5.7:\n",
    "        return '정상'\n",
    "    elif 5.7 <= hba1c <= 6.4:\n",
    "        return '당뇨병 전단계'\n",
    "    else:\n",
    "        return '당뇨병'\n",
    "\n",
    "df['hba1c_status'] = df['HE_HbA1c'].apply(hba1c_status)\n",
    "\n",
    "# 상태별 개수 (결측 제외)\n",
    "counts = df['hba1c_status'].value_counts(dropna=True)\n",
    "\n",
    "# 결측치 개수\n",
    "missing_count = df['HE_HbA1c'].isnull().sum()\n",
    "\n",
    "print(\"당화혈색소 기준 당뇨 상태별 개수:\")\n",
    "print(counts)\n",
    "print(f\"\\n당화혈색소 결측치 개수: {missing_count}\")\n"
   ]
  },
  {
   "cell_type": "code",
   "execution_count": null,
   "id": "5a9e985e",
   "metadata": {},
   "outputs": [],
   "source": []
  },
  {
   "cell_type": "code",
   "execution_count": null,
   "id": "9c36f045",
   "metadata": {},
   "outputs": [],
   "source": [
    "# 결측치 제거\n",
    "df_plot = df.dropna(subset=['DE1_dg', 'HE_DM_HbA1c', 'HE_glu', 'HE_HbA1c'])\n",
    "\n",
    "# 라벨 처리\n",
    "df_plot['DE1_dg'] = df_plot['DE1_dg'].astype(int).map({0: '무당뇨', 1: '당뇨'})\n",
    "status_map = {1: '정상', 2: '당뇨병 전단계', 3: '당뇨병'}\n",
    "df_plot['HE_DM_HbA1c_label'] = df_plot['HE_DM_HbA1c'].map(status_map)\n",
    "\n",
    "# 점 크기 조절 (당화혈색소 값 활용)\n",
    "# 크기가 너무 크거나 작지 않게 스케일 조정\n",
    "size_scale = 50\n",
    "sizes = df_plot['HE_HbA1c'] * size_scale\n",
    "\n",
    "plt.figure(figsize=(12, 7))\n",
    "\n",
    "palette = sns.color_palette(\"Dark2\", n_colors=2)\n",
    "\n",
    "sns.scatterplot(\n",
    "    data=df_plot,\n",
    "    x='HE_glu',\n",
    "    y='HE_HbA1c',\n",
    "    hue='DE1_dg',\n",
    "    style='HE_DM_HbA1c_label',\n",
    "    palette=palette,\n",
    "    size=sizes,\n",
    "    sizes=(20, 300),  # 최소, 최대 점 크기 지정\n",
    "    alpha=0.6\n",
    ")\n",
    "\n",
    "plt.title('당뇨병 환자 산점도 (공복혈당 vs 당화혈색소) - 점 크기: 당화혈색소 값', fontsize=16)\n",
    "plt.xlabel('공복혈당 (mg/dL)', fontsize=14)\n",
    "plt.ylabel('당화혈색소 (%)', fontsize=14)\n",
    "plt.legend(title='의사 진단 당뇨 / 상태', fontsize=12, title_fontsize=13, bbox_to_anchor=(1.05, 1), loc='upper left')\n",
    "plt.grid(True, linestyle='--', alpha=0.5)\n",
    "plt.tight_layout()\n",
    "plt.show()"
   ]
  },
  {
   "cell_type": "code",
   "execution_count": null,
   "id": "431603c3",
   "metadata": {},
   "outputs": [],
   "source": []
  },
  {
   "cell_type": "markdown",
   "id": "f79dad03",
   "metadata": {},
   "source": [
    "### DE1_dg & HE_DM_HbA1c "
   ]
  },
  {
   "cell_type": "markdown",
   "id": "80ee22c4",
   "metadata": {},
   "source": [
    "1. DE1_dg 가 1 (의사 진단 당뇨 있음) 이고,\n",
    "2. HE_DM_HbA1c 가 3 (당뇨병 상태)인 사람"
   ]
  },
  {
   "cell_type": "code",
   "execution_count": null,
   "id": "71634317",
   "metadata": {},
   "outputs": [],
   "source": [
    "# 두 컬럼 모두 당뇨인 사람\n",
    "both_diabetes = df[(df['DE1_dg'] == 1) & (df['HE_DM_HbA1c'] == 3)]\n",
    "count_both = len(both_diabetes)\n",
    "\n",
    "# DE1_dg 당뇨인데 HE_DM_HbA1c 당뇨 아닌 사람\n",
    "de1_only = df[(df['DE1_dg'] == 1) & (df['HE_DM_HbA1c'] != 3)]\n",
    "count_de1_only = len(de1_only)\n",
    "\n",
    "# HE_DM_HbA1c 당뇨인데 DE1_dg 당뇨 아닌 사람\n",
    "he_only = df[(df['HE_DM_HbA1c'] == 3) & (df['DE1_dg'] != 1)]\n",
    "count_he_only = len(he_only)\n",
    "\n",
    "print(f\"두 컬럼 모두 당뇨인 사람 수: {count_both}\")\n",
    "print(f\"의사 진단 당뇨이지만 HE_DM_HbA1c 당뇨 아닌 사람 수: {count_de1_only}\")\n",
    "print(f\"HE_DM_HbA1c 당뇨이지만 의사 진단 당뇨 아닌 사람 수: {count_he_only}\")"
   ]
  },
  {
   "cell_type": "markdown",
   "id": "96b07f88",
   "metadata": {},
   "source": [
    "결측치 갯수"
   ]
  },
  {
   "cell_type": "code",
   "execution_count": null,
   "id": "739bb797",
   "metadata": {},
   "outputs": [],
   "source": [
    "# DE1_dg 결측치 개수\n",
    "missing_de1 = df['DE1_dg'].isnull().sum()\n",
    "\n",
    "# HE_DM_HbA1c 결측치 개수\n",
    "missing_he = df['HE_DM_HbA1c'].isnull().sum()\n",
    "\n",
    "# 둘 다 결측인 경우\n",
    "missing_both = df[df['DE1_dg'].isnull() & df['HE_DM_HbA1c'].isnull()]\n",
    "count_missing_both = len(missing_both)\n",
    "\n",
    "print(f\"DE1_dg 결측치 개수: {missing_de1}\")\n",
    "print(f\"HE_DM_HbA1c 결측치 개수: {missing_he}\")\n",
    "print(f\"두 컬럼 모두 결측인 경우 수: {count_missing_both}\")"
   ]
  },
  {
   "cell_type": "markdown",
   "id": "310eba40",
   "metadata": {},
   "source": []
  }
 ],
 "metadata": {
  "kernelspec": {
   "display_name": "my_ML",
   "language": "python",
   "name": "python3"
  },
  "language_info": {
   "codemirror_mode": {
    "name": "ipython",
    "version": 3
   },
   "file_extension": ".py",
   "mimetype": "text/x-python",
   "name": "python",
   "nbconvert_exporter": "python",
   "pygments_lexer": "ipython3",
   "version": "3.8.20"
  }
 },
 "nbformat": 4,
 "nbformat_minor": 5
}
