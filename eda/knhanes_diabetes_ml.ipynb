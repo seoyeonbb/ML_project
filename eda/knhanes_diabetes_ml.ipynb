{
 "cells": [
  {
   "cell_type": "code",
   "execution_count": 3,
   "id": "ba2042bb",
   "metadata": {},
   "outputs": [
    {
     "name": "stdout",
     "output_type": "stream",
     "text": [
      "Collecting imblearn\n",
      "  Downloading imblearn-0.0-py2.py3-none-any.whl.metadata (355 bytes)\n",
      "Collecting imbalanced-learn (from imblearn)\n",
      "  Downloading imbalanced_learn-0.12.4-py3-none-any.whl.metadata (8.3 kB)\n",
      "Requirement already satisfied: numpy>=1.17.3 in c:\\users\\soso2\\anaconda3\\envs\\my_ml\\lib\\site-packages (from imbalanced-learn->imblearn) (1.24.4)\n",
      "Requirement already satisfied: scipy>=1.5.0 in c:\\users\\soso2\\anaconda3\\envs\\my_ml\\lib\\site-packages (from imbalanced-learn->imblearn) (1.10.1)\n",
      "Requirement already satisfied: scikit-learn>=1.0.2 in c:\\users\\soso2\\anaconda3\\envs\\my_ml\\lib\\site-packages (from imbalanced-learn->imblearn) (1.3.2)\n",
      "Requirement already satisfied: joblib>=1.1.1 in c:\\users\\soso2\\anaconda3\\envs\\my_ml\\lib\\site-packages (from imbalanced-learn->imblearn) (1.4.2)\n",
      "Requirement already satisfied: threadpoolctl>=2.0.0 in c:\\users\\soso2\\anaconda3\\envs\\my_ml\\lib\\site-packages (from imbalanced-learn->imblearn) (3.5.0)\n",
      "Downloading imblearn-0.0-py2.py3-none-any.whl (1.9 kB)\n",
      "Downloading imbalanced_learn-0.12.4-py3-none-any.whl (258 kB)\n",
      "Installing collected packages: imbalanced-learn, imblearn\n",
      "Successfully installed imbalanced-learn-0.12.4 imblearn-0.0\n"
     ]
    }
   ],
   "source": [
    "# !pip install imblearn"
   ]
  },
  {
   "cell_type": "markdown",
   "id": "7880f2c4",
   "metadata": {},
   "source": [
    "# Import"
   ]
  },
  {
   "cell_type": "code",
   "execution_count": 9,
   "id": "c373f5f8",
   "metadata": {},
   "outputs": [],
   "source": [
    "from imblearn.over_sampling import SMOTE\n",
    "from imblearn.combine import SMOTETomek\n",
    "from sklearn.model_selection import train_test_split\n",
    "\n",
    "import pandas as pd"
   ]
  },
  {
   "cell_type": "markdown",
   "id": "0bc5aa04",
   "metadata": {},
   "source": [
    "# ML"
   ]
  },
  {
   "cell_type": "code",
   "execution_count": 10,
   "id": "8bad468c",
   "metadata": {},
   "outputs": [],
   "source": [
    "# 1차 EDA 불러오기\n",
    "df_diabetes = pd.read_csv('./data/df_diabetes.csv')"
   ]
  },
  {
   "cell_type": "markdown",
   "id": "8f20e4d0",
   "metadata": {},
   "source": [
    "### SMOTE 기법"
   ]
  },
  {
   "cell_type": "code",
   "execution_count": 14,
   "id": "1b084ad7",
   "metadata": {},
   "outputs": [],
   "source": [
    "from sklearn.impute import SimpleImputer\n",
    "from imblearn.over_sampling import SMOTE\n",
    "from sklearn.model_selection import train_test_split\n",
    "\n",
    "# 1. 입력 변수와 타겟 정의\n",
    "features = [\n",
    "    'HE_DM_HbA1c', 'HE_glu', 'HE_Uglu', 'HE_HbA1c', 'HE_hsCRP',\n",
    "    'HE_chol', 'HE_HDL_st2', 'HE_BUN', 'HE_TG', 'HE_LDL_drct',\n",
    "    'HE_wc', 'HE_BMI',\n",
    "    'SBP_mean','DBP_mean',\n",
    "]\n",
    "\n",
    "X = df_diabetes[features]\n",
    "y = df_diabetes['diabetes_label'] \n",
    "\n",
    "# 2. train/test 분리\n",
    "X_train, X_test, y_train, y_test = train_test_split(\n",
    "    X, y, test_size=0.2, random_state=42, stratify=y\n",
    ")\n",
    "\n",
    "# 3. 결측치 평균값으로 채우기\n",
    "imputer = SimpleImputer(strategy='mean')\n",
    "X_train_imputed = imputer.fit_transform(X_train)\n",
    "X_test_imputed = imputer.transform(X_test)\n",
    "\n",
    "# 4. SMOTE 적용 (훈련셋만)\n",
    "smote = SMOTE(random_state=42)\n",
    "X_resampled, y_resampled = smote.fit_resample(X_train_imputed, y_train)\n"
   ]
  },
  {
   "cell_type": "markdown",
   "id": "27c8b293",
   "metadata": {},
   "source": [
    "### SMOTE 성능평가"
   ]
  },
  {
   "cell_type": "code",
   "execution_count": null,
   "id": "4242ff53",
   "metadata": {},
   "outputs": [
    {
     "name": "stdout",
     "output_type": "stream",
     "text": [
      "✅ 정확도 (Accuracy): 0.976911976911977\n",
      "\n",
      "📊 분류 리포트:\n",
      "               precision    recall  f1-score   support\n",
      "\n",
      "      비당뇨(0)       1.00      0.98      0.99      1253\n",
      "       당뇨(1)       0.82      0.97      0.89       133\n",
      "\n",
      "    accuracy                           0.98      1386\n",
      "   macro avg       0.91      0.97      0.94      1386\n",
      "weighted avg       0.98      0.98      0.98      1386\n",
      "\n",
      "\n",
      "🧩 혼동 행렬:\n",
      " [[1225   28]\n",
      " [   4  129]]\n"
     ]
    }
   ],
   "source": [
    "from sklearn.ensemble import RandomForestClassifier\n",
    "from sklearn.metrics import classification_report, confusion_matrix, accuracy_score\n",
    "\n",
    "# 1. 모델 학습\n",
    "model = RandomForestClassifier(random_state=42)\n",
    "model.fit(X_resampled, y_resampled)\n",
    "\n",
    "# 2. 테스트셋 예측\n",
    "y_pred = model.predict(X_test_imputed)\n",
    "\n",
    "# 3. 성능 평가\n",
    "print(\"정확도 (Accuracy):\", accuracy_score(y_test, y_pred))\n",
    "print(\"\\n 분류 리포트:\\n\", classification_report(y_test, y_pred, target_names=['비당뇨(0)', '당뇨(1)']))\n",
    "print(\"\\n 혼동 행렬:\\n\", confusion_matrix(y_test, y_pred))\n",
    "\n",
    "# [[1225   28]   → 28명은 당뇨 아닌데 당뇨라고 예측 (위양성)\n",
    "#  [  4  129]]   → 4명은 실제 당뇨인데 놓쳤음 (위음성)\n"
   ]
  },
  {
   "cell_type": "markdown",
   "id": "0ec41330",
   "metadata": {},
   "source": [
    "### SMOTETomek 기법"
   ]
  }
 ],
 "metadata": {
  "kernelspec": {
   "display_name": "my_ML",
   "language": "python",
   "name": "python3"
  },
  "language_info": {
   "codemirror_mode": {
    "name": "ipython",
    "version": 3
   },
   "file_extension": ".py",
   "mimetype": "text/x-python",
   "name": "python",
   "nbconvert_exporter": "python",
   "pygments_lexer": "ipython3",
   "version": "3.8.20"
  }
 },
 "nbformat": 4,
 "nbformat_minor": 5
}
